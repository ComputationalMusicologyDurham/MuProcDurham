{
  "cells": [
    {
      "cell_type": "markdown",
      "metadata": {},
      "source": [
        "\n# Tonnetz Generation\n"
      ]
    },
    {
      "cell_type": "code",
      "execution_count": null,
      "metadata": {
        "collapsed": false
      },
      "outputs": [],
      "source": [
        "# !pip install muprocdurham  # latest release\n# !pip install git+https://github.com/MusicComputingDurham/MuProcDurham.git@main  # latest main version (typically same as release)\n# !pip install git+https://github.com/MusicComputingDurham/MuProcDurham.git@dev  # latest dev version\n\n\n# # Tonnetz Generation"
      ]
    },
    {
      "cell_type": "code",
      "execution_count": null,
      "metadata": {
        "collapsed": false
      },
      "outputs": [],
      "source": [
        "import numpy as np\nimport matplotlib.pyplot as plt\nimport matplotlib.patches as patches\nimport music21 as m21\nimport muprocdurham.sound as mps\nfrom pitchtypes import Spelled, Enharmonic\n# !pip install pygame\n\n\n# This practical is about using the Tonnetz as a starting point to generate music.\n\n# ## Visualisation\n\n# Below is a helper class (using a static class, similar to a module, to avoide polluting the global namespace) to plot the Tonnetz and some related functionality for visualising things on the Tonnetz."
      ]
    },
    {
      "cell_type": "code",
      "execution_count": null,
      "metadata": {
        "collapsed": false
      },
      "outputs": [],
      "source": [
        "class Tonnetz:\n    # basic grid layout; transform (N, 2)-shaped arrays of indices to coordinates with 'indices @ basis'\n    basis = np.array([\n        [1., 0.],\n        [np.cos(np.pi / 3), np.sin(np.pi / 3)],\n    #     [0., 1.],\n    ])\n    # in continuous space\n#     unit_cell = [[0, 0], [4, -1], [4, 2], [0, 3]]\n#     unit_cell_offset = [-2, -1]\n    # on pitch classes\n    unit_cell = [[0, 0], [3, 0], [3, 2], [0, 2]] \n    unit_cell_offset = [0, 0]\n    # including chords\n    unit_cell = [[0, 0], [4, 0], [4, 3], [0, 3]] - np.array([0.1, 0.1])\n    unit_cell_offset = [0, 0]\n    # chords\n    major_triangle = [[0, 0], [0, 1], [1, 0]] @ basis\n    minor_triangle = [[0, 0], [1, -1], [1, 0]] @ basis\n    ma_off = major_triangle.mean(axis=0)  # offset of a major triad\n    mi_off = minor_triangle.mean(axis=0)  # offset of a minor triad\n    # plotting\n    pitch_spelling = ['just', 'spelled', 'enharmonic'][2]  # which pitch spelling to use\n    font_scale = 0.5  # font rescaling\n    margin_factor = 1 # margin around the unit cell\n    centre_pitch_class = 'C' # pitch class at [0, 0]\n    \n    @staticmethod\n    def plot(\n        axis=None,  # axis to plot to\n        figsize=(10, 7),\n    ):\n        # unit cell and plotting range\n        unit_cell_ = (np.array(Tonnetz.unit_cell) + np.array(Tonnetz.unit_cell_offset)) @ Tonnetz.basis\n        unit_cell_margin = unit_cell_ + Tonnetz.margin_factor * ([[-1, 0], [0, -1], [1, 0], [0, 1]] @ Tonnetz.basis)\n        min_xy = unit_cell_margin.min(axis=0)\n        max_xy = unit_cell_margin.max(axis=0)\n\n        # for drawing pitches and chords\n        hex_vertices = np.array([[1, 0], [0, 1], [-1, 1], [-1, 0], [0, -1], [1, -1]]) @ Tonnetz.basis\n        hex_vertices = (hex_vertices + hex_vertices[(np.arange(6) + 1) % 6]) / 3\n\n        # check pitch spelling\n        font_scale_ = Tonnetz.font_scale\n        if Tonnetz.pitch_spelling in ['just', 'spelled']:\n            c = Spelled.PitchClass(Tonnetz.centre_pitch_class)\n            fifth = Spelled.IntervalClass('P5')\n            \n        else:\n            c = Enharmonic.PitchClass(Tonnetz.centre_pitch_class)\n            fifth = Enharmonic.IntervalClass('P5')\n            font_scale_ *= 1.5\n        \n        # generate the grid\n        steps = []\n        labels = []\n        for fifths in range(-10, 10):\n            for thirds in range(-10, 10):\n                pc = c + (fifths + 4 * thirds) * fifth\n                l = str(pc)\n                if Tonnetz.pitch_spelling == 'just':\n                    if thirds > 0:\n                        l += \"'\" * thirds\n                    if thirds < 0:\n                        l += \",\" * -thirds\n                labels.append(l)\n                steps.append([fifths, thirds])\n        steps = np.array(steps)\n        xy = steps @ Tonnetz.basis\n\n        # plot everything\n        if axis is None:\n            fig, ax = plt.subplots(1, 1, figsize=figsize)\n        else:\n            fig, ax = None, axis\n        lines = []\n        for xy_, l in zip(xy, labels):\n            if np.any(xy_ < min_xy) or np.any(xy_ > max_xy):\n                continue\n            # pitches\n            ax.add_patch(patches.Polygon(hex_vertices + xy_, closed=True, edgecolor=(0,0,0), facecolor=(0,0,0,0), zorder=-8))\n            ax.add_patch(patches.Circle(xy_, radius=0.1, edgecolor=(0,0,0), facecolor=(0.95,0.95,0.95), zorder=-6))\n            ax.text(xy_[0], xy_[1], l, fontsize=font_scale_ * 8, va='center', ha='center')\n            # major chords\n            ma = Tonnetz.ma_off + xy_\n            ax.add_patch(patches.Polygon(Tonnetz.major_triangle + xy_, closed=True, edgecolor=(0,0,0), facecolor=(1,0.9,0.9), zorder=-10))\n            ax.add_patch(patches.Circle(ma, radius=0.2, edgecolor=(0,0,0), facecolor=(1,0.95,0.95), zorder=-6))\n            ax.text(ma[0], ma[1], l, fontsize=font_scale_ * 12, va='center', ha='center')\n            # minor chords\n            mi = Tonnetz.mi_off + xy_\n            ax.add_patch(patches.Polygon(Tonnetz.minor_triangle + xy_, closed=True, edgecolor=(0,0,0), facecolor=(0.9,0.9,1), zorder=-10))\n            ax.add_patch(patches.Circle(mi, radius=0.2, edgecolor=(0,0,0), facecolor=(0.95,0.95,1), zorder=-6))\n            ax.text(mi[0], mi[1], l.lower(), fontsize=font_scale_ * 12, va='center', ha='center')\n        ax.plot(*unit_cell_[np.arange(5) % 4].T, linewidth=5, solid_capstyle='round', c=(0.9, 0.1, 0.1, 0.3), zorder=1)\n        ax.axis('equal')\n        ax.axis('off')\n        if axis is None:\n            return fig, ax\n    \n    @staticmethod\n    def check_idx(idx):\n        idx = np.array(idx)\n        assert len(idx.shape) == 2, \"Index array must be 2D\"\n        assert idx.shape[1] == 2, \"Second dimension of index array must contain (fifths, thirds)-steps\"\n        return idx\n    \n    @staticmethod\n    def indices_to_coords(idx):\n        idx = Tonnetz.check_idx(idx)\n        return idx @ Tonnetz.basis\n    \n    @staticmethod\n    def remap_to_unit_cell(idx):\n        idx = Tonnetz.check_idx(idx)\n        idx = idx - Tonnetz.unit_cell_offset\n        for cond, offset in [\n            (lambda x: x[:, 0] < 0, [4, -1]),\n            (lambda x: x[:, 0] >= 4, [-4, 1]),        \n            (lambda x: x[:, 1] < 0, [0, 3]),\n            (lambda x: x[:, 1] >= 3, [0, -3]),\n        ]:\n            x = cond(idx)\n            while np.any(x):\n                idx[x] += offset\n                x = cond(idx)\n        return idx + Tonnetz.unit_cell_offset\n\nTN = Tonnetz  # like module \"import as\"\n\nTN.plot()\n\n\n# 1) Familiarise yourself with the visualising things on the Tonnetz by drawing:\n#     - a path of pitch classes: C-G-D#-E\n#     - a path of triads: C-G-g-c-A\n# 2) Also implement a `pitch_class` function that transforms lists of locations (e.g. a path) to a number in {0,...,11} representing the pitch class as MIDI number.\n#"
      ]
    },
    {
      "cell_type": "markdown",
      "metadata": {},
      "source": [
        "## Hints:\n\n\n- `Tonnetz.plot` plots the Tonnetz and returns `(figure, axis)`, so you can add additional plots to `axis`.\n- You can specify locations in `(fifths, thirds)`-steps or `indices` with the pitch class `C` corresponding to `(0, 0)`.\n- When working with enharmonically equivalent pitch classes (as in MIDI), you can remap lists of indices to the unit cell using `Tonnetz.remap_to_unit_cell`.\n- You can transform lists of indices to x/y-coordinates for plotting using the `Tonnetz.indices_to_coords` function.\n- `Tonnetz.ma_off` and `Tonnetz.mi_off` give the offsets (in x/y-coordinates) of major and minor chords, respectively, relative to their root pitch class.\n- A fifth are 7 semitone steps and a major third 4.\n- You can convert and print the MIDI pitch classes using `Enharmonic.PitchClass` from the `pitchtypes` library.\n\n"
      ]
    },
    {
      "cell_type": "code",
      "execution_count": null,
      "metadata": {
        "collapsed": false
      },
      "outputs": [],
      "source": [
        "def pitch_class(locs):\n    # vvvvvvvvvvvvvvvvvvvvvvvvvvvvvvvvvvvvvvvvvvvvvvvv\n    return [(s[0] * 7 + s[1] * 4) % 12 for s in locs] \n    # ^^^^^^^^^^^^^^^^^^^^^^^^^^^^^^^^^^^^^^^^^^^^^^^^"
      ]
    },
    {
      "cell_type": "code",
      "execution_count": null,
      "metadata": {
        "collapsed": false
      },
      "outputs": [],
      "source": [
        "# vvvvvvvvvvvvvvvvvvvvvvvvvvvvvvvvvvvvvvvvvvvvvvvv\nfig, ax = TN.plot()\npath = [[0, 0], [1, 0], [1, -1], [4, 0]]\nprint([Enharmonic.PitchClass(i) for i in pitch_class(path)])\nax.plot(*TN.indices_to_coords(path).T, '-o', lw=5, ms=20)\npath = TN.remap_to_unit_cell(path)\nax.plot(*TN.indices_to_coords(path).T, '-o', lw=3, ms=15)\n\npath = [[0, 0], [1, 0], [1, 0], [0, 0], [-1, 1]]\nprint([Enharmonic.PitchClass(i) for i in pitch_class(path)])\nma_mi_offset = [TN.ma_off, TN.ma_off, TN.mi_off, TN.mi_off, TN.ma_off]\nax.plot(*(TN.indices_to_coords(path) + np.stack(ma_mi_offset)).T, '-o', lw=5, ms=20)\npath = TN.remap_to_unit_cell(path)\nax.plot(*(TN.indices_to_coords(path) + np.stack(ma_mi_offset)).T, '-o', lw=3, ms=15)\n# ^^^^^^^^^^^^^^^^^^^^^^^^^^^^^^^^^^^^^^^^^^^^^^^^\n\n\n# ## Sample Paths\n\n# Generate paths (of a fixed length for now) on the Tonnetz by sampling steps along the three axes of the Tonnetz with different probabilities. Visualise them to get an intuition.\n#"
      ]
    },
    {
      "cell_type": "markdown",
      "metadata": {},
      "source": [
        "## Hints:\n\n\n- Steps should be defined in terms of fifths and major thirds.\n- The third axis of the Tonnetz corresponds to a *minor* third, which is the difference of a fifth and a major third.\n- `numpy.random.choice` is your friend for sampling indices with given probabilites.\n- Adding a bit of random noise to paths can make it easier to follow if it goes back and forth.\n- You can change `Tonnetz.margin_factor` (default is 1) to increase the area of the Tonnetz if paths go outside the drawing area.\n- You can use `np.cumsum` to add up steps.\n\n"
      ]
    },
    {
      "cell_type": "code",
      "execution_count": null,
      "metadata": {
        "collapsed": false
      },
      "outputs": [],
      "source": [
        "def sample_step(weights,\n                steps=[\n    # vvvvvvvvvvvvvvvvvvvvvvvvvvvvvvvvvvvvvvvvvvvvvvvv\n    [1, 0],  # fifth up\n    [-1, 0], # fifth down\n    [0, 1],  # major third up\n    [0, -1], # major third down\n    [1, -1], # minor third up\n    [-1, 1], # minor third down\n    # ^^^^^^^^^^^^^^^^^^^^^^^^^^^^^^^^^^^^^^^^^^^^^^^^            \n                ]\n):\n    # vvvvvvvvvvvvvvvvvvvvvvvvvvvvvvvvvvvvvvvvvvvvvvvv\n    weights = np.array(weights)\n    weights /= weights.sum()\n    idx = np.random.choice(len(steps), p=weights)\n    return steps[idx]\n    # ^^^^^^^^^^^^^^^^^^^^^^^^^^^^^^^^^^^^^^^^^^^^^^^^\n\ndef sample_path(n, weights, start=(0, 0)):\n    # vvvvvvvvvvvvvvvvvvvvvvvvvvvvvvvvvvvvvvvvvvvvvvvv\n    steps = [sample_step(weights) for i in range(n)]\n    return np.array([start] + steps).cumsum(axis=0)\n    # ^^^^^^^^^^^^^^^^^^^^^^^^^^^^^^^^^^^^^^^^^^^^^^^^\n\nprint(sample_step(weights=[1., 1., 1., 1., 1., 1.]))\nprint(sample_path(n=5, weights=[1., 1., 1., 1., 1., 1.]))"
      ]
    },
    {
      "cell_type": "code",
      "execution_count": null,
      "metadata": {
        "collapsed": false
      },
      "outputs": [],
      "source": [
        "# vvvvvvvvvvvvvvvvvvvvvvvvvvvvvvvvvvvvvvvvvvvvvvvv\npath = sample_path(10, np.ones(6))\npath = TN.remap_to_unit_cell(path)\npath = TN.indices_to_coords(path)\npath += np.random.uniform(-0.1, 0.1, path.shape)\n\nfig, ax = TN.plot()\nax.plot(*path.T, '-o', lw=5, ms=15)\n# ^^^^^^^^^^^^^^^^^^^^^^^^^^^^^^^^^^^^^^^^^^^^^^^^\n\n\n# Now generalise the path sampling by also randomising the path length. Define an `extend(n)` function, which returns the probability to further extend a path of length `n`.\n#"
      ]
    },
    {
      "cell_type": "markdown",
      "metadata": {},
      "source": [
        "## Hints:\n\n\n- you can start by just returning a constant probability and later experiment with other functions\n- the plots below show you\n    - the probability to extend at each step\n    - the cumulative probability, that is, the probability of reaching *at least* this step\n    - the length probability, that is, the probability to reach *exactly* this step\n\n"
      ]
    },
    {
      "cell_type": "code",
      "execution_count": null,
      "metadata": {
        "collapsed": false
      },
      "outputs": [],
      "source": [
        "def extend(n):\n    # vvvvvvvvvvvvvvvvvvvvvvvvvvvvvvvvvvvvvvvvvvvvvvvv\n#     return 0.9\n    return 0.7/(n/7+1)\n    # ^^^^^^^^^^^^^^^^^^^^^^^^^^^^^^^^^^^^^^^^^^^^^^^^\n\nprobs = np.array([extend(n) for n in range(10)])\ncum_probs = np.concatenate([[1], np.exp(np.cumsum(np.log(probs)))])\nlen_probs = cum_probs[:-1] * (1 - probs)\nprint(f\"{sum(len_probs)} approx. 1\")\nplt.plot(probs, label='step-wise probabilities')\nplt.plot(cum_probs, label='cumulative probability')\nplt.plot(len_probs, label='length probability')\nplt.legend()\n\n\n# Update the `sample_path` function to use the `extend` function."
      ]
    },
    {
      "cell_type": "code",
      "execution_count": null,
      "metadata": {
        "collapsed": false
      },
      "outputs": [],
      "source": [
        "def sample_path(weights, start=(0, 0)):\n    # vvvvvvvvvvvvvvvvvvvvvvvvvvvvvvvvvvvvvvvvvvvvvvvv\n    steps = []\n    while np.random.uniform(0, 1) < extend(len(steps)):\n        steps.append(sample_step(weights))\n    return np.array([start] + steps).cumsum(axis=0)\n    # ^^^^^^^^^^^^^^^^^^^^^^^^^^^^^^^^^^^^^^^^^^^^^^^^"
      ]
    },
    {
      "cell_type": "code",
      "execution_count": null,
      "metadata": {
        "collapsed": false
      },
      "outputs": [],
      "source": [
        "# vvvvvvvvvvvvvvvvvvvvvvvvvvvvvvvvvvvvvvvvvvvvvvvv\npath = sample_path(np.ones(6))\n# path = TN.remap_to_unit_cell(path)\npath = TN.indices_to_coords(path)\npath += np.random.uniform(-0.1, 0.1, path.shape)\n\nfig, ax = TN.plot()\nax.plot(*path.T, '-o', lw=5, ms=15)\n# ^^^^^^^^^^^^^^^^^^^^^^^^^^^^^^^^^^^^^^^^^^^^^^^^\n\n\n# ## Sample Distributions [optional]\n\n# Generate a number of paths and plot the distribution over their end points. This corresponds to a Monte Carlo approximation of the distribution defined by the Tonal Diffusion Model."
      ]
    },
    {
      "cell_type": "code",
      "execution_count": null,
      "metadata": {
        "collapsed": false
      },
      "outputs": [],
      "source": [
        "# vvvvvvvvvvvvvvvvvvvvvvvvvvvvvvvvvvvvvvvvvvvvvvvv\nn_samples = 1000\nweights = [2, 1, 0.1, 0.1, 0.1, 0.1]\nsamples = [sample_path(weights=weights, start=(1, 1))[-1] for _ in range(n_samples)]\nsamples = TN.remap_to_unit_cell(samples)\nlocations, counts = np.unique(samples, return_counts=True, axis=0)\nlocations = TN.indices_to_coords(locations)\ncounts = counts / counts.max()\n\nfig, ax = TN.plot()\nax.scatter(*(locations).T, color=(0.9,0,0), s=5000, alpha=counts)\n# ax.scatter(*(locations).T, s=5000*counts)\n# ^^^^^^^^^^^^^^^^^^^^^^^^^^^^^^^^^^^^^^^^^^^^^^^^\n\n\n# ## Stack Automaton\n\n# Now, you know how to extend a path by sampling new steps and, of course, you can also shorten a path by dropping elements from its end. This is all you need for implementing a stack automaton:\n# - start with a stack containing a single location (say, `[0, 0]`) and an empty sequence\n# - with the `extend` probability, sample a step and push/append the *resulting location* to the stack\n# - if you do not extend the stack, pop its last element and append it to the sequence\n# - keep going until the stack is empty (you can restart if you want to get a minimum sequence length)\n#"
      ]
    },
    {
      "cell_type": "markdown",
      "metadata": {},
      "source": [
        "## Hints:\n\n\n- make sure your `extend` probability is always below 1, otherwise the stack will never become empty and the automaton will not terminate\n- you can transform the sequence of locations to pitch classes using the `pitch_class` function from above\n\n"
      ]
    },
    {
      "cell_type": "code",
      "execution_count": null,
      "metadata": {
        "collapsed": false
      },
      "outputs": [],
      "source": [
        "def stack_automaton(weights, start=(0, 0), min_len=0, max_len=None, verbose=False):\n    # vvvvvvvvvvvvvvvvvvvvvvvvvvvvvvvvvvvvvvvvvvvvvvvv\n    start = np.array(start)\n    stack = [start]\n    sequence = []\n    while stack:\n        if np.random.uniform(0, 1) < extend(len(stack)):\n            s = sample_step(weights=weights)\n        else:\n            s = None\n        if verbose:\n            print(f\"{np.array(stack).tolist()} | {s}\", end=\" \")\n        if s is not None:\n            stack.append(stack[-1] + s)\n            if verbose:\n                print()\n        else:\n            sequence.append(stack.pop())\n            if verbose:\n                print(\"-->\", sequence[-1])\n        # break\n        if max_len is not None and len(sequence) >= max_len:\n            break\n        # restart\n        if not stack and len(sequence) < min_len:\n            stack.append(start)\n    # ^^^^^^^^^^^^^^^^^^^^^^^^^^^^^^^^^^^^^^^^^^^^^^^^\n    return sequence"
      ]
    },
    {
      "cell_type": "code",
      "execution_count": null,
      "metadata": {
        "collapsed": false
      },
      "outputs": [],
      "source": [
        "seq = stack_automaton(weights=weights, min_len=10)\nprint([Enharmonic.PitchClass(i) for i in pitch_class(seq)])\nseq = TN.remap_to_unit_cell(seq)\ncoords = TN.indices_to_coords(seq)\ncoords += np.random.uniform(-0.1, 0.1, coords.shape)\nfig, ax = TN.plot()\nax.plot(*coords.T, '-o', ms=15, lw=5)\n\n\n# ## Melodies\n\n# Transform the sequence of pitch classes to actual pitches by defining the octave (i.e., adding some multiple of 12 to the MIDI pitch class).\n#"
      ]
    },
    {
      "cell_type": "markdown",
      "metadata": {},
      "source": [
        "## Hints:\n\n\n- you can try to avoid large jumps at the octave boundaries by allowing for a larger window of pitches and trying to define the octave of the next pitch such that the step to the previous pitch is as small as possible\n\n"
      ]
    },
    {
      "cell_type": "code",
      "execution_count": null,
      "metadata": {
        "collapsed": false
      },
      "outputs": [],
      "source": [
        "def to_melody(seq, offset=60, min_pitch=58, max_pitch=72):\n    # vvvvvvvvvvvvvvvvvvvvvvvvvvvvvvvvvvvvvvvvvvvvvvvv\n    melody = []\n    for p in seq:\n        p += offset\n        if melody:\n            p_ = melody[-1]\n            while p - p_ > 7:\n                p -= 12\n            while p - p_ < -6:\n                p += 12\n            if p > max_pitch:\n                p -= 12\n            if p < min_pitch:\n                p += 12\n        melody.append(p)\n    # ^^^^^^^^^^^^^^^^^^^^^^^^^^^^^^^^^^^^^^^^^^^^^^^^\n    return melody\n\ndef get_melody(**kwargs):\n    return to_melody(pitch_class(stack_automaton(**kwargs)))\n\nmelody = get_melody(weights=weights, min_len=10, max_len=20)\nprint(melody)\nprint([Enharmonic.Pitch(i) for i in melody])"
      ]
    },
    {
      "cell_type": "markdown",
      "metadata": {},
      "source": [
        "## On NCC:\n\nUse the `muprocdurham.sound.sound` function to generate and play the melody with simple sinodial tones.\n- **Hints:**\n    - use `Enharmonic.Pitch(...).freq()` to get the correct frequencies (or compute by hand as learned in the lecture)\n\n%%\nOn your own machine:\n--------------------\n\nUse `music21` to make a score and play the melody.\n\n- **Hints:**\n    - start by creating a `music21.stream.Stream` object\n    - create `music21.note.Note` objects using the MIDI pitch from the melody and append these to the stream\n    - you can set the duration of notes by changing their `quarterLength` property\n\n"
      ]
    },
    {
      "cell_type": "code",
      "execution_count": null,
      "metadata": {
        "collapsed": false
      },
      "outputs": [],
      "source": [
        "melody = get_melody(weights=weights, min_len=10, max_len=20)\nprint([Enharmonic.Pitch(i) for i in melody])"
      ]
    },
    {
      "cell_type": "code",
      "execution_count": null,
      "metadata": {
        "collapsed": false
      },
      "outputs": [],
      "source": [
        "# NCC\n# vvvvvvvvvvvvvvvvvvvvvvvvvvvvvvvvvvvvvvvvvvvvvvvv\nstream = []\nfor p in melody:\n    stream.append(mps.render(mps.sound(Enharmonic.Pitch(p).freq(), duration=0.125)))\nstream = np.concatenate(stream)\nmps.audio(stream)\n# ^^^^^^^^^^^^^^^^^^^^^^^^^^^^^^^^^^^^^^^^^^^^^^^^"
      ]
    },
    {
      "cell_type": "code",
      "execution_count": null,
      "metadata": {
        "collapsed": false
      },
      "outputs": [],
      "source": [
        "# with music21\n# vvvvvvvvvvvvvvvvvvvvvvvvvvvvvvvvvvvvvvvvvvvvvvvv\nstream = m21.stream.Stream()\nfor p in melody:\n    n = m21.note.Note(p)\n    n.quarterLength = 1/4\n    stream.append(n)\n\n# stream.show()\n# m21.midi.realtime.StreamPlayer(stream).play()\n# ^^^^^^^^^^^^^^^^^^^^^^^^^^^^^^^^^^^^^^^^^^^^^^^^\n\n\n# ## Rhythm\n\n# Below is a function that generates a very simple rhythm as a sequence of `(duration, beat)` pairs, where `duration` is the event's duration in quarter beats and `beat` indicates whether the event is a note (`True`) or a rest (`False`). Use this to add a rhythm to the melody."
      ]
    },
    {
      "cell_type": "code",
      "execution_count": null,
      "metadata": {
        "collapsed": false
      },
      "outputs": [],
      "source": [
        "def get_rhythm(n_bars, split_prob=0.5, beat_prob=0.8, max_splits=4, min_splits=2, final=True):\n    overall_rhythm = []\n    # generate bars independently\n    for _ in range(n_bars):\n        # recursively split\n        rhythm = [(4, False, None)]  # (duration, terminal, beat)\n        for depth in range(max_splits):\n            new_rhythm = []\n            for d, t, b in rhythm:\n                if t:\n                    # keep terminals unchanged\n                    new_rhythm += [(d, t, b)]\n                elif depth < min_splits or np.random.uniform(0, 1) < split_prob:\n                    # split (without terminating)\n                    new_rhythm += [(d/2, t, b), (d/2, t, b)]\n                elif np.random.uniform(0, 1) < beat_prob:\n                    # terminat with a beat\n                    new_rhythm += [(d, True, True)]\n                else:\n                    # terminate with a rest\n                    new_rhythm += [(d, True, False)]\n            rhythm = new_rhythm\n        # fill non-terminated and drop terminal flag\n        new_rhythm = []\n        for d, t, b in rhythm:\n            if b is None:\n                b = np.random.uniform(0, 1) < beat_prob\n            new_rhythm.append((d, b))\n        overall_rhythm += new_rhythm\n    # append one final closing beat\n    if final:\n        overall_rhythm += [(4, True)]\n    return overall_rhythm\n\nget_rhythm(1)"
      ]
    },
    {
      "cell_type": "code",
      "execution_count": null,
      "metadata": {
        "collapsed": false
      },
      "outputs": [],
      "source": [
        "def rhythm_and_melody(rhythm, melody, show=True, play=True, use_m21=False):\n    # vvvvvvvvvvvvvvvvvvvvvvvvvvvvvvvvvvvvvvvvvvvvvvvv\n    if use_m21:\n        stream = m21.stream.Stream()\n    else:\n        stream = []\n    for p, (d, b) in zip(melody, rhythm):\n        if use_m21:\n            if b:\n                n = m21.note.Note(p)\n            else:\n                n = m21.note.Rest()\n            n.quarterLength = d\n            stream.append(n)\n        else:\n            f = Enharmonic.Pitch(p).freq() if b else 440\n            quarterduration = 0.5  # default speed is 120 in music21\n            n = mps.render(mps.sound(f, duration=quarterduration * d))\n            if b:\n                stream.append(n)\n            else:\n                stream.append(0. * n)  # silence\n    if use_m21:\n        if show:\n            stream.show()\n        if play:\n            m21.midi.realtime.StreamPlayer(stream).play()\n    else:\n        stream = np.concatenate(stream)\n        if show:\n            mps.spectrogram(stream, ylim=2500)\n        if play:\n            mps.audio(stream)\n    # ^^^^^^^^^^^^^^^^^^^^^^^^^^^^^^^^^^^^^^^^^^^^^^^^\n\nmelody = get_melody(weights=weights, min_len=10, max_len=20)\nrhythm = get_rhythm(4)\nprint([Enharmonic.Pitch(i) for i in melody])\nprint(rhythm)\n# rhythm_and_melody(rhythm=rhythm, melody=melody)\n# rhythm_and_melody(rhythm=rhythm, melody=melody, use_m21=True)\n\n\n# ## Random Melody\n\n# Generate a random melody and compare its character to the melody generated using the Tonnetz."
      ]
    },
    {
      "cell_type": "code",
      "execution_count": null,
      "metadata": {
        "collapsed": false
      },
      "outputs": [],
      "source": [
        "# vvvvvvvvvvvvvvvvvvvvvvvvvvvvvvvvvvvvvvvvvvvvvvvv\nmelody = np.random.randint(58, 72, 50)\n# ^^^^^^^^^^^^^^^^^^^^^^^^^^^^^^^^^^^^^^^^^^^^^^^^\nrhythm = get_rhythm(4)\nrhythm_and_melody(rhythm, melody)\n\n\n# ## More possibilities...\n\n# The Tonnetz melody does sound \"less random\" than the actual random melody. But it still does not sound like a \"proper\" melody. There are several reasons for this, the main one being that the Tonnetz generates harmonically related pitch classes that do not always result in nice melodic lines. There are several directions to further experiment and improve the generation:\n# - The melodies can be elaborated, for instance, by repeating notes (e.g. sampling additional notes from the last *k* notes in the original sequence), adding ornamentations (such as trills or neighbour notes), or by filling larger jumps with intermediate notes to generate smoother melodic lines.\n# - Instead of using the pitch-based version of the Tonnetz, one can use the triad based version with 5 possible steps corresponding to moving up/down on the line/circle of fifths and the three Neo-Riemannian transformations. Pitches can then be sampled from the respective triads (hint: good melodic lines emphasise the *changing* notes in the chord).\n# - For a given chord, the corresponding scale can be used to generate additional notes and filling patterns (as above but better matching the current harmony)."
      ]
    }
  ],
  "metadata": {
    "kernelspec": {
      "display_name": "Python 3",
      "language": "python",
      "name": "python3"
    },
    "language_info": {
      "codemirror_mode": {
        "name": "ipython",
        "version": 3
      },
      "file_extension": ".py",
      "mimetype": "text/x-python",
      "name": "python",
      "nbconvert_exporter": "python",
      "pygments_lexer": "ipython3",
      "version": "3.10.16"
    }
  },
  "nbformat": 4,
  "nbformat_minor": 0
}